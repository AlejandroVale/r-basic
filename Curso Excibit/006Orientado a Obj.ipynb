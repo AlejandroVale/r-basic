{
 "metadata": {
  "language_info": {
   "codemirror_mode": {
    "name": "ipython",
    "version": 3
   },
   "file_extension": ".py",
   "mimetype": "text/x-python",
   "name": "python",
   "nbconvert_exporter": "python",
   "pygments_lexer": "ipython3",
   "version": "3.8.5-final"
  },
  "orig_nbformat": 2,
  "kernelspec": {
   "name": "python3",
   "display_name": "Python 3",
   "language": "python"
  }
 },
 "nbformat": 4,
 "nbformat_minor": 2,
 "cells": [
  {
   "cell_type": "code",
   "execution_count": 25,
   "metadata": {},
   "outputs": [
    {
     "output_type": "stream",
     "name": "stdout",
     "text": [
      "Juan 2\n"
     ]
    }
   ],
   "source": [
    "#class Dog:\n",
    "   # pass\n",
    "\n",
    "\n",
    "class Dog:\n",
    "    def __init__(self,name,age):\n",
    "        self.name = name\n",
    "        self.age = age\n",
    "\n",
    "    def __str__(self):\n",
    "        return f'{self.name} {self.age}'\n",
    "\n",
    "dog = Dog('Juan', 2)\n",
    "\n",
    "print(dog)\n"
   ]
  },
  {
   "cell_type": "code",
   "execution_count": 37,
   "metadata": {},
   "outputs": [
    {
     "output_type": "stream",
     "name": "stdout",
     "text": [
      "skin negro Large 65.0\n"
     ]
    }
   ],
   "source": [
    "class producto:\n",
    "    def __init__(self,color, talla, precio):\n",
    "        self.color = color\n",
    "        self.talla = talla\n",
    "        self.precio = precio\n",
    "\n",
    "    def __str__(self):\n",
    "        return f'{self.color} {self.talla} {self.precio}'\n",
    "\n",
    "prod = producto('Blanco','Large','60.0')\n",
    "\n",
    "#print(prod)\n",
    "\n",
    "class pantalon (producto):\n",
    "    def __init__ (self,modelo,*args,**kw):\n",
    "        super().__init__(*args,**kw)\n",
    "        self.modelo = modelo\n",
    "    def __str__(self):\n",
    "        return f'{self.modelo} {self.color} {self.talla} {self.precio}'\n",
    "\n",
    "nuevo_prod= pantalon('skin','negro','Large','65.0')\n",
    "\n",
    "print(nuevo_prod)"
   ]
  },
  {
   "cell_type": "code",
   "execution_count": null,
   "metadata": {},
   "outputs": [],
   "source": []
  }
 ]
}