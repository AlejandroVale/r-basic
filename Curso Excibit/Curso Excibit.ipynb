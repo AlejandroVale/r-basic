{
 "metadata": {
  "language_info": {
   "codemirror_mode": {
    "name": "ipython",
    "version": 3
   },
   "file_extension": ".py",
   "mimetype": "text/x-python",
   "name": "python",
   "nbconvert_exporter": "python",
   "pygments_lexer": "ipython3",
   "version": "3.8.5-final"
  },
  "orig_nbformat": 2,
  "kernelspec": {
   "name": "python3",
   "display_name": "Python 3",
   "language": "python"
  }
 },
 "nbformat": 4,
 "nbformat_minor": 2,
 "cells": [
  {
   "cell_type": "code",
   "execution_count": 29,
   "metadata": {},
   "outputs": [
    {
     "output_type": "stream",
     "name": "stdout",
     "text": [
      "11001\n7001\n"
     ]
    }
   ],
   "source": [
    "productos = [{'nombre': 'jabon', 'precio': 7000.99}, {'nombre': 'zanahoria', 'precio': '4000'}]\n",
    "\n",
    "#suma de precios redondeados\n",
    "\n",
    "len(productos)\n",
    "productos[0]['precio']\n",
    "suma = 0\n",
    "for i in range(len(productos)):\n",
    "       suma =  suma + float(productos[i]['precio'])\n",
    "\n",
    "print(round(suma))\n",
    "\n",
    "Mayor=0\n",
    "for i in range(len(productos)):\n",
    "       if(float(productos[i]['precio']) > Mayor):\n",
    "           Mayor = float(productos[i]['precio'])\n",
    "       \n",
    "\n",
    "print(round(Mayor))\n"
   ]
  },
  {
   "cell_type": "code",
   "execution_count": 71,
   "metadata": {},
   "outputs": [],
   "source": [
    "# Manejo de Archivos\n",
    "\n",
    "archivo = '.\\\\data.txt'\n",
    "f = open(archivo,'r')"
   ]
  },
  {
   "cell_type": "code",
   "execution_count": 59,
   "metadata": {},
   "outputs": [
    {
     "output_type": "stream",
     "name": "stdout",
     "text": [
      "Hola Mundo\n\n"
     ]
    }
   ],
   "source": [
    "print(f.read())\n",
    "f.close() ## Cerrar el archivo"
   ]
  },
  {
   "cell_type": "code",
   "execution_count": 79,
   "metadata": {},
   "outputs": [
    {
     "output_type": "stream",
     "name": "stdout",
     "text": [
      "Hola Mundo\n\n"
     ]
    }
   ],
   "source": [
    "with open(archivo,'r') as x:\n",
    "    print(x.read())"
   ]
  },
  {
   "cell_type": "code",
   "execution_count": 84,
   "metadata": {},
   "outputs": [
    {
     "output_type": "stream",
     "name": "stdout",
     "text": [
      "H\no\nl\na\n \nM\nu\nn\nd\no\n\n\n"
     ]
    }
   ],
   "source": [
    "with open(archivo,'r') as f:\n",
    "    for linea in f.readline():\n",
    "        print(linea)"
   ]
  },
  {
   "cell_type": "code",
   "execution_count": 92,
   "metadata": {},
   "outputs": [
    {
     "output_type": "stream",
     "name": "stdout",
     "text": [
      "       Girth (in)  Height (ft)  Volume(ft^3)\nIndex                                       \n1             8.3           70          10.3\n2             8.6           65          10.3\n3             8.8           63          10.2\n4            10.5           72          16.4\n5            10.7           81          18.8\n6            10.8           83          19.7\n7            11.0           66          15.6\n8            11.0           75          18.2\n9            11.1           80          22.6\n10           11.2           75          19.9\n11           11.3           79          24.2\n12           11.4           76          21.0\n13           11.4           76          21.4\n14           11.7           69          21.3\n15           12.0           75          19.1\n16           12.9           74          22.2\n17           12.9           85          33.8\n18           13.3           86          27.4\n19           13.7           71          25.7\n20           13.8           64          24.9\n21           14.0           78          34.5\n22           14.2           80          31.7\n23           14.5           74          36.3\n24           16.0           72          38.3\n25           16.3           77          42.6\n26           17.3           81          55.4\n27           17.5           82          55.7\n28           17.9           80          58.3\n29           18.0           80          51.5\n30           18.0           80          51.0\n31           20.6           87          77.0\n"
     ]
    }
   ],
   "source": [
    "import pandas as pd\n",
    "\n",
    "df = pd.read_csv('.\\\\trees.csv',index_col='Index')\n",
    "\n",
    "print(df)"
   ]
  },
  {
   "cell_type": "code",
   "execution_count": 93,
   "metadata": {},
   "outputs": [
    {
     "output_type": "stream",
     "name": "stdout",
     "text": [
      "       Girth (in)  Height (ft)  Volume(ft^3)\nIndex                                       \n1             8.3           70          10.3\n2             8.6           65          10.3\n3             8.8           63          10.2\n4            10.5           72          16.4\n5            10.7           81          18.8\n"
     ]
    }
   ],
   "source": [
    "print(df.head())"
   ]
  },
  {
   "cell_type": "code",
   "execution_count": 94,
   "metadata": {},
   "outputs": [
    {
     "output_type": "stream",
     "name": "stdout",
     "text": [
      "       Girth (in)  Height (ft)  Volume(ft^3)\nIndex                                       \n1             8.3           70          10.3\n2             8.6           65          10.3\n3             8.8           63          10.2\n"
     ]
    }
   ],
   "source": [
    "print(df.head(3))"
   ]
  },
  {
   "cell_type": "code",
   "execution_count": 99,
   "metadata": {},
   "outputs": [
    {
     "output_type": "execute_result",
     "data": {
      "text/plain": [
       "93"
      ]
     },
     "metadata": {},
     "execution_count": 99
    }
   ],
   "source": [
    "df.size\n"
   ]
  },
  {
   "cell_type": "code",
   "execution_count": 98,
   "metadata": {},
   "outputs": [
    {
     "output_type": "execute_result",
     "data": {
      "text/plain": [
       "31"
      ]
     },
     "metadata": {},
     "execution_count": 98
    }
   ],
   "source": [
    "len(df) # cantidad de registros"
   ]
  },
  {
   "cell_type": "code",
   "execution_count": 96,
   "metadata": {},
   "outputs": [
    {
     "output_type": "execute_result",
     "data": {
      "text/plain": [
       "       Girth (in)  Height (ft)  Volume(ft^3)\n",
       "Index                                       \n",
       "1             8.3           70          10.3\n",
       "2             8.6           65          10.3\n",
       "3             8.8           63          10.2\n",
       "4            10.5           72          16.4\n",
       "5            10.7           81          18.8\n",
       "6            10.8           83          19.7\n",
       "7            11.0           66          15.6\n",
       "8            11.0           75          18.2\n",
       "9            11.1           80          22.6\n",
       "10           11.2           75          19.9"
      ],
      "text/html": "<div>\n<style scoped>\n    .dataframe tbody tr th:only-of-type {\n        vertical-align: middle;\n    }\n\n    .dataframe tbody tr th {\n        vertical-align: top;\n    }\n\n    .dataframe thead th {\n        text-align: right;\n    }\n</style>\n<table border=\"1\" class=\"dataframe\">\n  <thead>\n    <tr style=\"text-align: right;\">\n      <th></th>\n      <th>Girth (in)</th>\n      <th>Height (ft)</th>\n      <th>Volume(ft^3)</th>\n    </tr>\n    <tr>\n      <th>Index</th>\n      <th></th>\n      <th></th>\n      <th></th>\n    </tr>\n  </thead>\n  <tbody>\n    <tr>\n      <th>1</th>\n      <td>8.3</td>\n      <td>70</td>\n      <td>10.3</td>\n    </tr>\n    <tr>\n      <th>2</th>\n      <td>8.6</td>\n      <td>65</td>\n      <td>10.3</td>\n    </tr>\n    <tr>\n      <th>3</th>\n      <td>8.8</td>\n      <td>63</td>\n      <td>10.2</td>\n    </tr>\n    <tr>\n      <th>4</th>\n      <td>10.5</td>\n      <td>72</td>\n      <td>16.4</td>\n    </tr>\n    <tr>\n      <th>5</th>\n      <td>10.7</td>\n      <td>81</td>\n      <td>18.8</td>\n    </tr>\n    <tr>\n      <th>6</th>\n      <td>10.8</td>\n      <td>83</td>\n      <td>19.7</td>\n    </tr>\n    <tr>\n      <th>7</th>\n      <td>11.0</td>\n      <td>66</td>\n      <td>15.6</td>\n    </tr>\n    <tr>\n      <th>8</th>\n      <td>11.0</td>\n      <td>75</td>\n      <td>18.2</td>\n    </tr>\n    <tr>\n      <th>9</th>\n      <td>11.1</td>\n      <td>80</td>\n      <td>22.6</td>\n    </tr>\n    <tr>\n      <th>10</th>\n      <td>11.2</td>\n      <td>75</td>\n      <td>19.9</td>\n    </tr>\n  </tbody>\n</table>\n</div>"
     },
     "metadata": {},
     "execution_count": 96
    }
   ],
   "source": [
    "df[0:10]\n"
   ]
  },
  {
   "cell_type": "code",
   "execution_count": 100,
   "metadata": {},
   "outputs": [
    {
     "output_type": "execute_result",
     "data": {
      "text/plain": [
       "       Girth (in)  Height (ft)  Volume(ft^3)\n",
       "Index                                       \n",
       "5            10.7           81          18.8\n",
       "6            10.8           83          19.7\n",
       "17           12.9           85          33.8\n",
       "18           13.3           86          27.4\n",
       "26           17.3           81          55.4\n",
       "27           17.5           82          55.7\n",
       "31           20.6           87          77.0"
      ],
      "text/html": "<div>\n<style scoped>\n    .dataframe tbody tr th:only-of-type {\n        vertical-align: middle;\n    }\n\n    .dataframe tbody tr th {\n        vertical-align: top;\n    }\n\n    .dataframe thead th {\n        text-align: right;\n    }\n</style>\n<table border=\"1\" class=\"dataframe\">\n  <thead>\n    <tr style=\"text-align: right;\">\n      <th></th>\n      <th>Girth (in)</th>\n      <th>Height (ft)</th>\n      <th>Volume(ft^3)</th>\n    </tr>\n    <tr>\n      <th>Index</th>\n      <th></th>\n      <th></th>\n      <th></th>\n    </tr>\n  </thead>\n  <tbody>\n    <tr>\n      <th>5</th>\n      <td>10.7</td>\n      <td>81</td>\n      <td>18.8</td>\n    </tr>\n    <tr>\n      <th>6</th>\n      <td>10.8</td>\n      <td>83</td>\n      <td>19.7</td>\n    </tr>\n    <tr>\n      <th>17</th>\n      <td>12.9</td>\n      <td>85</td>\n      <td>33.8</td>\n    </tr>\n    <tr>\n      <th>18</th>\n      <td>13.3</td>\n      <td>86</td>\n      <td>27.4</td>\n    </tr>\n    <tr>\n      <th>26</th>\n      <td>17.3</td>\n      <td>81</td>\n      <td>55.4</td>\n    </tr>\n    <tr>\n      <th>27</th>\n      <td>17.5</td>\n      <td>82</td>\n      <td>55.7</td>\n    </tr>\n    <tr>\n      <th>31</th>\n      <td>20.6</td>\n      <td>87</td>\n      <td>77.0</td>\n    </tr>\n  </tbody>\n</table>\n</div>"
     },
     "metadata": {},
     "execution_count": 100
    }
   ],
   "source": [
    "df[df['Height (ft)'] > 80]"
   ]
  },
  {
   "cell_type": "code",
   "execution_count": 101,
   "metadata": {},
   "outputs": [
    {
     "output_type": "execute_result",
     "data": {
      "text/plain": [
       "       Girth (in)  Height (ft)  Volume(ft^3)\n",
       "Index                                       \n",
       "26           17.3           81          55.4\n",
       "27           17.5           82          55.7\n",
       "31           20.6           87          77.0"
      ],
      "text/html": "<div>\n<style scoped>\n    .dataframe tbody tr th:only-of-type {\n        vertical-align: middle;\n    }\n\n    .dataframe tbody tr th {\n        vertical-align: top;\n    }\n\n    .dataframe thead th {\n        text-align: right;\n    }\n</style>\n<table border=\"1\" class=\"dataframe\">\n  <thead>\n    <tr style=\"text-align: right;\">\n      <th></th>\n      <th>Girth (in)</th>\n      <th>Height (ft)</th>\n      <th>Volume(ft^3)</th>\n    </tr>\n    <tr>\n      <th>Index</th>\n      <th></th>\n      <th></th>\n      <th></th>\n    </tr>\n  </thead>\n  <tbody>\n    <tr>\n      <th>26</th>\n      <td>17.3</td>\n      <td>81</td>\n      <td>55.4</td>\n    </tr>\n    <tr>\n      <th>27</th>\n      <td>17.5</td>\n      <td>82</td>\n      <td>55.7</td>\n    </tr>\n    <tr>\n      <th>31</th>\n      <td>20.6</td>\n      <td>87</td>\n      <td>77.0</td>\n    </tr>\n  </tbody>\n</table>\n</div>"
     },
     "metadata": {},
     "execution_count": 101
    }
   ],
   "source": [
    "mask = (df['Height (ft)'] > 80) & (df['Girth (in)'] >15)\n",
    "df[mask]"
   ]
  },
  {
   "cell_type": "code",
   "execution_count": 103,
   "metadata": {},
   "outputs": [],
   "source": [
    "df2 = df[mask]\n",
    "df2.to_csv('archivo_filtrado.csv')"
   ]
  },
  {
   "cell_type": "code",
   "execution_count": 105,
   "metadata": {},
   "outputs": [],
   "source": [
    "df2.to_excel('archivo_filtrado.xlsx')"
   ]
  },
  {
   "cell_type": "code",
   "execution_count": 106,
   "metadata": {},
   "outputs": [
    {
     "output_type": "execute_result",
     "data": {
      "text/plain": [
       "       Girth (in)  Height (ft)  Volume(ft^3)\n",
       "count   31.000000    31.000000     31.000000\n",
       "mean    13.248387    76.000000     30.170968\n",
       "std      3.138139     6.371813     16.437846\n",
       "min      8.300000    63.000000     10.200000\n",
       "25%     11.050000    72.000000     19.400000\n",
       "50%     12.900000    76.000000     24.200000\n",
       "75%     15.250000    80.000000     37.300000\n",
       "max     20.600000    87.000000     77.000000"
      ],
      "text/html": "<div>\n<style scoped>\n    .dataframe tbody tr th:only-of-type {\n        vertical-align: middle;\n    }\n\n    .dataframe tbody tr th {\n        vertical-align: top;\n    }\n\n    .dataframe thead th {\n        text-align: right;\n    }\n</style>\n<table border=\"1\" class=\"dataframe\">\n  <thead>\n    <tr style=\"text-align: right;\">\n      <th></th>\n      <th>Girth (in)</th>\n      <th>Height (ft)</th>\n      <th>Volume(ft^3)</th>\n    </tr>\n  </thead>\n  <tbody>\n    <tr>\n      <th>count</th>\n      <td>31.000000</td>\n      <td>31.000000</td>\n      <td>31.000000</td>\n    </tr>\n    <tr>\n      <th>mean</th>\n      <td>13.248387</td>\n      <td>76.000000</td>\n      <td>30.170968</td>\n    </tr>\n    <tr>\n      <th>std</th>\n      <td>3.138139</td>\n      <td>6.371813</td>\n      <td>16.437846</td>\n    </tr>\n    <tr>\n      <th>min</th>\n      <td>8.300000</td>\n      <td>63.000000</td>\n      <td>10.200000</td>\n    </tr>\n    <tr>\n      <th>25%</th>\n      <td>11.050000</td>\n      <td>72.000000</td>\n      <td>19.400000</td>\n    </tr>\n    <tr>\n      <th>50%</th>\n      <td>12.900000</td>\n      <td>76.000000</td>\n      <td>24.200000</td>\n    </tr>\n    <tr>\n      <th>75%</th>\n      <td>15.250000</td>\n      <td>80.000000</td>\n      <td>37.300000</td>\n    </tr>\n    <tr>\n      <th>max</th>\n      <td>20.600000</td>\n      <td>87.000000</td>\n      <td>77.000000</td>\n    </tr>\n  </tbody>\n</table>\n</div>"
     },
     "metadata": {},
     "execution_count": 106
    }
   ],
   "source": [
    "df.describe()"
   ]
  },
  {
   "cell_type": "code",
   "execution_count": 107,
   "metadata": {},
   "outputs": [],
   "source": [
    "df['Height (m)'] = df['Height (ft)'] / 3.281"
   ]
  },
  {
   "cell_type": "code",
   "execution_count": 108,
   "metadata": {},
   "outputs": [
    {
     "output_type": "execute_result",
     "data": {
      "text/plain": [
       "       Girth (in)  Height (ft)  Volume(ft^3)  Height (m)\n",
       "Index                                                   \n",
       "1             8.3           70          10.3   21.334959\n",
       "2             8.6           65          10.3   19.811033\n",
       "3             8.8           63          10.2   19.201463\n",
       "4            10.5           72          16.4   21.944529\n",
       "5            10.7           81          18.8   24.687595\n",
       "6            10.8           83          19.7   25.297165\n",
       "7            11.0           66          15.6   20.115818\n",
       "8            11.0           75          18.2   22.858884\n",
       "9            11.1           80          22.6   24.382810\n",
       "10           11.2           75          19.9   22.858884\n",
       "11           11.3           79          24.2   24.078025\n",
       "12           11.4           76          21.0   23.163670\n",
       "13           11.4           76          21.4   23.163670\n",
       "14           11.7           69          21.3   21.030174\n",
       "15           12.0           75          19.1   22.858884\n",
       "16           12.9           74          22.2   22.554099\n",
       "17           12.9           85          33.8   25.906736\n",
       "18           13.3           86          27.4   26.211521\n",
       "19           13.7           71          25.7   21.639744\n",
       "20           13.8           64          24.9   19.506248\n",
       "21           14.0           78          34.5   23.773240\n",
       "22           14.2           80          31.7   24.382810\n",
       "23           14.5           74          36.3   22.554099\n",
       "24           16.0           72          38.3   21.944529\n",
       "25           16.3           77          42.6   23.468455\n",
       "26           17.3           81          55.4   24.687595\n",
       "27           17.5           82          55.7   24.992380\n",
       "28           17.9           80          58.3   24.382810\n",
       "29           18.0           80          51.5   24.382810\n",
       "30           18.0           80          51.0   24.382810\n",
       "31           20.6           87          77.0   26.516306"
      ],
      "text/html": "<div>\n<style scoped>\n    .dataframe tbody tr th:only-of-type {\n        vertical-align: middle;\n    }\n\n    .dataframe tbody tr th {\n        vertical-align: top;\n    }\n\n    .dataframe thead th {\n        text-align: right;\n    }\n</style>\n<table border=\"1\" class=\"dataframe\">\n  <thead>\n    <tr style=\"text-align: right;\">\n      <th></th>\n      <th>Girth (in)</th>\n      <th>Height (ft)</th>\n      <th>Volume(ft^3)</th>\n      <th>Height (m)</th>\n    </tr>\n    <tr>\n      <th>Index</th>\n      <th></th>\n      <th></th>\n      <th></th>\n      <th></th>\n    </tr>\n  </thead>\n  <tbody>\n    <tr>\n      <th>1</th>\n      <td>8.3</td>\n      <td>70</td>\n      <td>10.3</td>\n      <td>21.334959</td>\n    </tr>\n    <tr>\n      <th>2</th>\n      <td>8.6</td>\n      <td>65</td>\n      <td>10.3</td>\n      <td>19.811033</td>\n    </tr>\n    <tr>\n      <th>3</th>\n      <td>8.8</td>\n      <td>63</td>\n      <td>10.2</td>\n      <td>19.201463</td>\n    </tr>\n    <tr>\n      <th>4</th>\n      <td>10.5</td>\n      <td>72</td>\n      <td>16.4</td>\n      <td>21.944529</td>\n    </tr>\n    <tr>\n      <th>5</th>\n      <td>10.7</td>\n      <td>81</td>\n      <td>18.8</td>\n      <td>24.687595</td>\n    </tr>\n    <tr>\n      <th>6</th>\n      <td>10.8</td>\n      <td>83</td>\n      <td>19.7</td>\n      <td>25.297165</td>\n    </tr>\n    <tr>\n      <th>7</th>\n      <td>11.0</td>\n      <td>66</td>\n      <td>15.6</td>\n      <td>20.115818</td>\n    </tr>\n    <tr>\n      <th>8</th>\n      <td>11.0</td>\n      <td>75</td>\n      <td>18.2</td>\n      <td>22.858884</td>\n    </tr>\n    <tr>\n      <th>9</th>\n      <td>11.1</td>\n      <td>80</td>\n      <td>22.6</td>\n      <td>24.382810</td>\n    </tr>\n    <tr>\n      <th>10</th>\n      <td>11.2</td>\n      <td>75</td>\n      <td>19.9</td>\n      <td>22.858884</td>\n    </tr>\n    <tr>\n      <th>11</th>\n      <td>11.3</td>\n      <td>79</td>\n      <td>24.2</td>\n      <td>24.078025</td>\n    </tr>\n    <tr>\n      <th>12</th>\n      <td>11.4</td>\n      <td>76</td>\n      <td>21.0</td>\n      <td>23.163670</td>\n    </tr>\n    <tr>\n      <th>13</th>\n      <td>11.4</td>\n      <td>76</td>\n      <td>21.4</td>\n      <td>23.163670</td>\n    </tr>\n    <tr>\n      <th>14</th>\n      <td>11.7</td>\n      <td>69</td>\n      <td>21.3</td>\n      <td>21.030174</td>\n    </tr>\n    <tr>\n      <th>15</th>\n      <td>12.0</td>\n      <td>75</td>\n      <td>19.1</td>\n      <td>22.858884</td>\n    </tr>\n    <tr>\n      <th>16</th>\n      <td>12.9</td>\n      <td>74</td>\n      <td>22.2</td>\n      <td>22.554099</td>\n    </tr>\n    <tr>\n      <th>17</th>\n      <td>12.9</td>\n      <td>85</td>\n      <td>33.8</td>\n      <td>25.906736</td>\n    </tr>\n    <tr>\n      <th>18</th>\n      <td>13.3</td>\n      <td>86</td>\n      <td>27.4</td>\n      <td>26.211521</td>\n    </tr>\n    <tr>\n      <th>19</th>\n      <td>13.7</td>\n      <td>71</td>\n      <td>25.7</td>\n      <td>21.639744</td>\n    </tr>\n    <tr>\n      <th>20</th>\n      <td>13.8</td>\n      <td>64</td>\n      <td>24.9</td>\n      <td>19.506248</td>\n    </tr>\n    <tr>\n      <th>21</th>\n      <td>14.0</td>\n      <td>78</td>\n      <td>34.5</td>\n      <td>23.773240</td>\n    </tr>\n    <tr>\n      <th>22</th>\n      <td>14.2</td>\n      <td>80</td>\n      <td>31.7</td>\n      <td>24.382810</td>\n    </tr>\n    <tr>\n      <th>23</th>\n      <td>14.5</td>\n      <td>74</td>\n      <td>36.3</td>\n      <td>22.554099</td>\n    </tr>\n    <tr>\n      <th>24</th>\n      <td>16.0</td>\n      <td>72</td>\n      <td>38.3</td>\n      <td>21.944529</td>\n    </tr>\n    <tr>\n      <th>25</th>\n      <td>16.3</td>\n      <td>77</td>\n      <td>42.6</td>\n      <td>23.468455</td>\n    </tr>\n    <tr>\n      <th>26</th>\n      <td>17.3</td>\n      <td>81</td>\n      <td>55.4</td>\n      <td>24.687595</td>\n    </tr>\n    <tr>\n      <th>27</th>\n      <td>17.5</td>\n      <td>82</td>\n      <td>55.7</td>\n      <td>24.992380</td>\n    </tr>\n    <tr>\n      <th>28</th>\n      <td>17.9</td>\n      <td>80</td>\n      <td>58.3</td>\n      <td>24.382810</td>\n    </tr>\n    <tr>\n      <th>29</th>\n      <td>18.0</td>\n      <td>80</td>\n      <td>51.5</td>\n      <td>24.382810</td>\n    </tr>\n    <tr>\n      <th>30</th>\n      <td>18.0</td>\n      <td>80</td>\n      <td>51.0</td>\n      <td>24.382810</td>\n    </tr>\n    <tr>\n      <th>31</th>\n      <td>20.6</td>\n      <td>87</td>\n      <td>77.0</td>\n      <td>26.516306</td>\n    </tr>\n  </tbody>\n</table>\n</div>"
     },
     "metadata": {},
     "execution_count": 108
    }
   ],
   "source": [
    "df"
   ]
  },
  {
   "cell_type": "code",
   "execution_count": 114,
   "metadata": {},
   "outputs": [
    {
     "output_type": "execute_result",
     "data": {
      "text/plain": [
       "       Girth (in)  Height (ft)  Volume(ft^3)  Height (m) category\n",
       "Index                                                            \n",
       "1             8.3           70          10.3   21.334959    chico\n",
       "2             8.6           65          10.3   19.811033    chico\n",
       "3             8.8           63          10.2   19.201463    chico\n",
       "4            10.5           72          16.4   21.944529    medio\n",
       "5            10.7           81          18.8   24.687595    medio\n",
       "6            10.8           83          19.7   25.297165    medio\n",
       "7            11.0           66          15.6   20.115818    medio\n",
       "8            11.0           75          18.2   22.858884    medio\n",
       "9            11.1           80          22.6   24.382810    medio\n",
       "10           11.2           75          19.9   22.858884    medio\n",
       "11           11.3           79          24.2   24.078025    medio\n",
       "12           11.4           76          21.0   23.163670    medio\n",
       "13           11.4           76          21.4   23.163670    medio\n",
       "14           11.7           69          21.3   21.030174    medio\n",
       "15           12.0           75          19.1   22.858884    medio\n",
       "16           12.9           74          22.2   22.554099    medio\n",
       "17           12.9           85          33.8   25.906736    medio\n",
       "18           13.3           86          27.4   26.211521    medio\n",
       "19           13.7           71          25.7   21.639744    medio\n",
       "20           13.8           64          24.9   19.506248    medio\n",
       "21           14.0           78          34.5   23.773240    medio\n",
       "22           14.2           80          31.7   24.382810    medio\n",
       "23           14.5           74          36.3   22.554099    medio\n",
       "24           16.0           72          38.3   21.944529   grande\n",
       "25           16.3           77          42.6   23.468455   grande\n",
       "26           17.3           81          55.4   24.687595   grande\n",
       "27           17.5           82          55.7   24.992380   grande\n",
       "28           17.9           80          58.3   24.382810   grande\n",
       "29           18.0           80          51.5   24.382810   grande\n",
       "30           18.0           80          51.0   24.382810   grande\n",
       "31           20.6           87          77.0   26.516306   grande"
      ],
      "text/html": "<div>\n<style scoped>\n    .dataframe tbody tr th:only-of-type {\n        vertical-align: middle;\n    }\n\n    .dataframe tbody tr th {\n        vertical-align: top;\n    }\n\n    .dataframe thead th {\n        text-align: right;\n    }\n</style>\n<table border=\"1\" class=\"dataframe\">\n  <thead>\n    <tr style=\"text-align: right;\">\n      <th></th>\n      <th>Girth (in)</th>\n      <th>Height (ft)</th>\n      <th>Volume(ft^3)</th>\n      <th>Height (m)</th>\n      <th>category</th>\n    </tr>\n    <tr>\n      <th>Index</th>\n      <th></th>\n      <th></th>\n      <th></th>\n      <th></th>\n      <th></th>\n    </tr>\n  </thead>\n  <tbody>\n    <tr>\n      <th>1</th>\n      <td>8.3</td>\n      <td>70</td>\n      <td>10.3</td>\n      <td>21.334959</td>\n      <td>chico</td>\n    </tr>\n    <tr>\n      <th>2</th>\n      <td>8.6</td>\n      <td>65</td>\n      <td>10.3</td>\n      <td>19.811033</td>\n      <td>chico</td>\n    </tr>\n    <tr>\n      <th>3</th>\n      <td>8.8</td>\n      <td>63</td>\n      <td>10.2</td>\n      <td>19.201463</td>\n      <td>chico</td>\n    </tr>\n    <tr>\n      <th>4</th>\n      <td>10.5</td>\n      <td>72</td>\n      <td>16.4</td>\n      <td>21.944529</td>\n      <td>medio</td>\n    </tr>\n    <tr>\n      <th>5</th>\n      <td>10.7</td>\n      <td>81</td>\n      <td>18.8</td>\n      <td>24.687595</td>\n      <td>medio</td>\n    </tr>\n    <tr>\n      <th>6</th>\n      <td>10.8</td>\n      <td>83</td>\n      <td>19.7</td>\n      <td>25.297165</td>\n      <td>medio</td>\n    </tr>\n    <tr>\n      <th>7</th>\n      <td>11.0</td>\n      <td>66</td>\n      <td>15.6</td>\n      <td>20.115818</td>\n      <td>medio</td>\n    </tr>\n    <tr>\n      <th>8</th>\n      <td>11.0</td>\n      <td>75</td>\n      <td>18.2</td>\n      <td>22.858884</td>\n      <td>medio</td>\n    </tr>\n    <tr>\n      <th>9</th>\n      <td>11.1</td>\n      <td>80</td>\n      <td>22.6</td>\n      <td>24.382810</td>\n      <td>medio</td>\n    </tr>\n    <tr>\n      <th>10</th>\n      <td>11.2</td>\n      <td>75</td>\n      <td>19.9</td>\n      <td>22.858884</td>\n      <td>medio</td>\n    </tr>\n    <tr>\n      <th>11</th>\n      <td>11.3</td>\n      <td>79</td>\n      <td>24.2</td>\n      <td>24.078025</td>\n      <td>medio</td>\n    </tr>\n    <tr>\n      <th>12</th>\n      <td>11.4</td>\n      <td>76</td>\n      <td>21.0</td>\n      <td>23.163670</td>\n      <td>medio</td>\n    </tr>\n    <tr>\n      <th>13</th>\n      <td>11.4</td>\n      <td>76</td>\n      <td>21.4</td>\n      <td>23.163670</td>\n      <td>medio</td>\n    </tr>\n    <tr>\n      <th>14</th>\n      <td>11.7</td>\n      <td>69</td>\n      <td>21.3</td>\n      <td>21.030174</td>\n      <td>medio</td>\n    </tr>\n    <tr>\n      <th>15</th>\n      <td>12.0</td>\n      <td>75</td>\n      <td>19.1</td>\n      <td>22.858884</td>\n      <td>medio</td>\n    </tr>\n    <tr>\n      <th>16</th>\n      <td>12.9</td>\n      <td>74</td>\n      <td>22.2</td>\n      <td>22.554099</td>\n      <td>medio</td>\n    </tr>\n    <tr>\n      <th>17</th>\n      <td>12.9</td>\n      <td>85</td>\n      <td>33.8</td>\n      <td>25.906736</td>\n      <td>medio</td>\n    </tr>\n    <tr>\n      <th>18</th>\n      <td>13.3</td>\n      <td>86</td>\n      <td>27.4</td>\n      <td>26.211521</td>\n      <td>medio</td>\n    </tr>\n    <tr>\n      <th>19</th>\n      <td>13.7</td>\n      <td>71</td>\n      <td>25.7</td>\n      <td>21.639744</td>\n      <td>medio</td>\n    </tr>\n    <tr>\n      <th>20</th>\n      <td>13.8</td>\n      <td>64</td>\n      <td>24.9</td>\n      <td>19.506248</td>\n      <td>medio</td>\n    </tr>\n    <tr>\n      <th>21</th>\n      <td>14.0</td>\n      <td>78</td>\n      <td>34.5</td>\n      <td>23.773240</td>\n      <td>medio</td>\n    </tr>\n    <tr>\n      <th>22</th>\n      <td>14.2</td>\n      <td>80</td>\n      <td>31.7</td>\n      <td>24.382810</td>\n      <td>medio</td>\n    </tr>\n    <tr>\n      <th>23</th>\n      <td>14.5</td>\n      <td>74</td>\n      <td>36.3</td>\n      <td>22.554099</td>\n      <td>medio</td>\n    </tr>\n    <tr>\n      <th>24</th>\n      <td>16.0</td>\n      <td>72</td>\n      <td>38.3</td>\n      <td>21.944529</td>\n      <td>grande</td>\n    </tr>\n    <tr>\n      <th>25</th>\n      <td>16.3</td>\n      <td>77</td>\n      <td>42.6</td>\n      <td>23.468455</td>\n      <td>grande</td>\n    </tr>\n    <tr>\n      <th>26</th>\n      <td>17.3</td>\n      <td>81</td>\n      <td>55.4</td>\n      <td>24.687595</td>\n      <td>grande</td>\n    </tr>\n    <tr>\n      <th>27</th>\n      <td>17.5</td>\n      <td>82</td>\n      <td>55.7</td>\n      <td>24.992380</td>\n      <td>grande</td>\n    </tr>\n    <tr>\n      <th>28</th>\n      <td>17.9</td>\n      <td>80</td>\n      <td>58.3</td>\n      <td>24.382810</td>\n      <td>grande</td>\n    </tr>\n    <tr>\n      <th>29</th>\n      <td>18.0</td>\n      <td>80</td>\n      <td>51.5</td>\n      <td>24.382810</td>\n      <td>grande</td>\n    </tr>\n    <tr>\n      <th>30</th>\n      <td>18.0</td>\n      <td>80</td>\n      <td>51.0</td>\n      <td>24.382810</td>\n      <td>grande</td>\n    </tr>\n    <tr>\n      <th>31</th>\n      <td>20.6</td>\n      <td>87</td>\n      <td>77.0</td>\n      <td>26.516306</td>\n      <td>grande</td>\n    </tr>\n  </tbody>\n</table>\n</div>"
     },
     "metadata": {},
     "execution_count": 114
    }
   ],
   "source": [
    "def classifier(values):\n",
    "    measure = values['Girth (in)']\n",
    "    if measure >15:\n",
    "       return 'grande'\n",
    "    elif measure > 10:\n",
    "        return 'medio'\n",
    "    else:\n",
    "        return 'chico'\n",
    "\n",
    "df['category'] = df.apply(classifier, axis=1)\n",
    "\n",
    "df"
   ]
  },
  {
   "cell_type": "code",
   "execution_count": 115,
   "metadata": {},
   "outputs": [
    {
     "output_type": "execute_result",
     "data": {
      "text/plain": [
       "          Girth (in)  Height (ft)  Volume(ft^3)  Height (m)\n",
       "category                                                   \n",
       "chico       8.566667       66.000     10.266667   20.115818\n",
       "grande     17.700000       79.875     53.725000   24.344712\n",
       "medio      12.170000       75.950     23.735000   23.148430"
      ],
      "text/html": "<div>\n<style scoped>\n    .dataframe tbody tr th:only-of-type {\n        vertical-align: middle;\n    }\n\n    .dataframe tbody tr th {\n        vertical-align: top;\n    }\n\n    .dataframe thead th {\n        text-align: right;\n    }\n</style>\n<table border=\"1\" class=\"dataframe\">\n  <thead>\n    <tr style=\"text-align: right;\">\n      <th></th>\n      <th>Girth (in)</th>\n      <th>Height (ft)</th>\n      <th>Volume(ft^3)</th>\n      <th>Height (m)</th>\n    </tr>\n    <tr>\n      <th>category</th>\n      <th></th>\n      <th></th>\n      <th></th>\n      <th></th>\n    </tr>\n  </thead>\n  <tbody>\n    <tr>\n      <th>chico</th>\n      <td>8.566667</td>\n      <td>66.000</td>\n      <td>10.266667</td>\n      <td>20.115818</td>\n    </tr>\n    <tr>\n      <th>grande</th>\n      <td>17.700000</td>\n      <td>79.875</td>\n      <td>53.725000</td>\n      <td>24.344712</td>\n    </tr>\n    <tr>\n      <th>medio</th>\n      <td>12.170000</td>\n      <td>75.950</td>\n      <td>23.735000</td>\n      <td>23.148430</td>\n    </tr>\n  </tbody>\n</table>\n</div>"
     },
     "metadata": {},
     "execution_count": 115
    }
   ],
   "source": [
    "df.groupby('category').mean()"
   ]
  },
  {
   "cell_type": "code",
   "execution_count": 117,
   "metadata": {},
   "outputs": [
    {
     "output_type": "execute_result",
     "data": {
      "text/plain": [
       "          Height (ft)  Girth (in)  Height (m)\n",
       "category                                     \n",
       "chico             198    8.566667   60.347455\n",
       "grande            639   17.700000  194.757696\n",
       "medio            1519   12.170000  462.968607"
      ],
      "text/html": "<div>\n<style scoped>\n    .dataframe tbody tr th:only-of-type {\n        vertical-align: middle;\n    }\n\n    .dataframe tbody tr th {\n        vertical-align: top;\n    }\n\n    .dataframe thead th {\n        text-align: right;\n    }\n</style>\n<table border=\"1\" class=\"dataframe\">\n  <thead>\n    <tr style=\"text-align: right;\">\n      <th></th>\n      <th>Height (ft)</th>\n      <th>Girth (in)</th>\n      <th>Height (m)</th>\n    </tr>\n    <tr>\n      <th>category</th>\n      <th></th>\n      <th></th>\n      <th></th>\n    </tr>\n  </thead>\n  <tbody>\n    <tr>\n      <th>chico</th>\n      <td>198</td>\n      <td>8.566667</td>\n      <td>60.347455</td>\n    </tr>\n    <tr>\n      <th>grande</th>\n      <td>639</td>\n      <td>17.700000</td>\n      <td>194.757696</td>\n    </tr>\n    <tr>\n      <th>medio</th>\n      <td>1519</td>\n      <td>12.170000</td>\n      <td>462.968607</td>\n    </tr>\n  </tbody>\n</table>\n</div>"
     },
     "metadata": {},
     "execution_count": 117
    }
   ],
   "source": [
    "import numpy as np\n",
    "df.groupby(['category']).agg({'Height (ft)': sum, 'Girth (in)': 'mean', 'Height (m)': np.sum})"
   ]
  },
  {
   "cell_type": "code",
   "execution_count": 138,
   "metadata": {},
   "outputs": [
    {
     "output_type": "stream",
     "name": "stdout",
     "text": [
      "        Survived  Pclass       Age  SibSp  Parch        Fare\nSex                                                         \nfemale       233     678   7286.00    218    204  13966.6628\nmale         109    1379  13919.17    248    136  14727.2865\n        Survived    Pclass        Age     SibSp     Parch       Fare\nSex                                                                 \nfemale  0.742038  2.159236  27.915709  0.694268  0.649682  44.479818\nmale    0.188908  2.389948  30.726645  0.429809  0.235702  25.523893\n"
     ]
    }
   ],
   "source": [
    "import pandas as pd\n",
    "\n",
    "\n",
    "\n",
    "df3 = pd.read_csv('.\\\\titanic.csv', index_col='PassengerId')\n",
    "\n",
    "print(df3.groupby(['Sex']).sum())\n",
    "print(df3.groupby(['Sex']).mean())\n"
   ]
  },
  {
   "cell_type": "code",
   "execution_count": 145,
   "metadata": {},
   "outputs": [],
   "source": [
    "def classifier2(values):\n",
    "    measure = values['Age']\n",
    "    if measure >41:\n",
    "       return 'grande'\n",
    "    elif measure > 19:\n",
    "        return 'medio'\n",
    "    else:\n",
    "        return 'chico'\n",
    "\n",
    "df3['rango'] = df3.apply(classifier2, axis=1)\n",
    "df3['contador'] = 1"
   ]
  },
  {
   "cell_type": "code",
   "execution_count": 151,
   "metadata": {},
   "outputs": [
    {
     "output_type": "stream",
     "name": "stdout",
     "text": [
      "        Survived  Pclass       Age  SibSp  Parch        Fare  contador\nrango                                                                 \nchico        131     875   1964.67    283    167   9136.4039       341\ngrande        53     243   7333.00     46     46   6073.3587       142\nmedio        158     939  11907.50    137    127  13484.1867       408\n        Survived  Pclass       Age  SibSp  Parch        Fare  contador  \\\nrango                                                                    \nchico        131     875   1964.67    283    167   9136.4039       341   \ngrande        53     243   7333.00     46     46   6073.3587       142   \nmedio        158     939  11907.50    137    127  13484.1867       408   \n\n        porcentaje  \nrango               \nchico        38.42  \ngrande       37.32  \nmedio        38.73  \n"
     ]
    }
   ],
   "source": [
    "\n",
    "dfaux = df3.groupby(['rango']).sum()\n",
    "print(dfaux)\n",
    "dfaux['porcentaje'] = round(dfaux['Survived'] /dfaux['contador'] *100,2)\n",
    "print(dfaux)"
   ]
  },
  {
   "cell_type": "code",
   "execution_count": null,
   "metadata": {},
   "outputs": [],
   "source": []
  }
 ]
}