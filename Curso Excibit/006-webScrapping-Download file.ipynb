{
 "cells": [
  {
   "cell_type": "code",
   "execution_count": null,
   "metadata": {},
   "outputs": [],
   "source": [
    "url = 'https://inec.gob.pa/avance/Default2.aspx?ID_CIFRAS=18&ID_CATEGORIA=4&ID_IDIOMA=1'\n",
    "chromeOptions = webdriver.ChromeOptions()\n",
    "##chromeOptions.add_argument(\"--headless\")\n",
    "browser = webdriver.Chrome('./driver/chromedriver.exe', options=chromeOptions)\n",
    "browser.implicitly_wait(30)\n",
    "browser.get(url)\n",
    "\n",
    "\n",
    "soup = BeautifulSoup(browser.page_source, 'lxml')\n",
    "tablaurl = soup.find_all(id='gvAvances')\n",
    "\n",
    "\n",
    "hurl = tablaurl[0].find_all('tr') [1].find_all('a')[1]['href']\n",
    "\n",
    "\n",
    "import urllib.request\n",
    "from urllib.parse import urljoin\n",
    "\n",
    "web_url = url\n",
    "fullurl = urljoin(web_url, hurl)\n",
    "\n",
    "\n",
    "import requests\n",
    "r = requests.get(fullurl)\n",
    "\n",
    "open('./file2.pdf', 'wb').write(r.content)"
   ]
  }
 ],
 "metadata": {
  "kernelspec": {
   "display_name": "Python 3",
   "language": "python",
   "name": "python3"
  },
  "language_info": {
   "codemirror_mode": {
    "name": "ipython",
    "version": 3
   },
   "file_extension": ".py",
   "mimetype": "text/x-python",
   "name": "python",
   "nbconvert_exporter": "python",
   "pygments_lexer": "ipython3",
   "version": "3.7.9"
  }
 },
 "nbformat": 4,
 "nbformat_minor": 4
}
